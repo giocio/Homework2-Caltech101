{
 "cells": [
  {
   "cell_type": "markdown",
   "metadata": {
    "colab_type": "text",
    "id": "c9QcGnGPdX2C"
   },
   "source": [
    "\n",
    "**Install requirements**"
   ]
  },
  {
   "cell_type": "code",
   "execution_count": null,
   "metadata": {
    "colab": {
     "base_uri": "https://localhost:8080/",
     "height": 34
    },
    "colab_type": "code",
    "id": "k9O3aM3Tb28q",
    "outputId": "862be4d1-43b5-4b49-cb98-4a917b6730c4"
   },
   "outputs": [
    {
     "name": "stdout",
     "output_type": "stream",
     "text": [
      "Requirement already satisfied: tqdm in /usr/local/lib/python3.6/dist-packages (4.41.1)\n"
     ]
    }
   ],
   "source": [
    "!pip3 install 'torch==1.3.1'\n",
    "!pip3 install 'torchvision==0.5.0'\n",
    "!pip3 install 'Pillow-SIMD'\n",
    "!pip3 install 'tqdm'"
   ]
  },
  {
   "cell_type": "markdown",
   "metadata": {
    "colab_type": "text",
    "id": "fo942LMOdlh4"
   },
   "source": [
    "**Import libraries**"
   ]
  },
  {
   "cell_type": "code",
   "execution_count": null,
   "metadata": {
    "colab": {},
    "colab_type": "code",
    "id": "DokFOdD1dJEl"
   },
   "outputs": [],
   "source": [
    "import os\n",
    "import logging\n",
    "import time\n",
    "import torch\n",
    "import torch.nn as nn\n",
    "import torch.optim as optim\n",
    "import pandas as pd\n",
    "import numpy as np\n",
    "import torchvision\n",
    "\n",
    "from torch.utils.data import Subset, DataLoader\n",
    "from torch.backends import cudnn\n",
    "from torchvision import transforms\n",
    "from torchvision.models import alexnet\n",
    "from PIL import Image\n",
    "from tqdm import tqdm\n",
    "from sklearn.model_selection import StratifiedShuffleSplit"
   ]
  },
  {
   "cell_type": "markdown",
   "metadata": {
    "colab_type": "text",
    "id": "OIDLJuIXK_vh"
   },
   "source": [
    "**Set Arguments**"
   ]
  },
  {
   "cell_type": "code",
   "execution_count": null,
   "metadata": {
    "colab": {},
    "colab_type": "code",
    "id": "d5PkYfqfK_SA"
   },
   "outputs": [],
   "source": [
    "DEVICE = 'cuda' # 'cuda' or 'cpu'\n",
    "\n",
    "NUM_CLASSES = 102 # 101 + 1: There is am extra Background class that should be removed \n",
    "\n",
    "BATCH_SIZE = 256     # Higher batch sizes allows for larger learning rates. An empirical heuristic suggests that, when changing\n",
    "                     # the batch size, learning rate should change by the same factor to have comparable results\n",
    "LR = 0.01            # The initial Learning Rate - https://machinelearningmastery.com/understand-the-dynamics-of-learning-rate-on-deep-learning-neural-networks/\n",
    "\n",
    "MOMENTUM = 0.9       # Hyperparameter for SGD, keep this at 0.9 when using SGD\n",
    "WEIGHT_DECAY = 5e-5  # Regularization, you can keep this at the default https://stats.stackexchange.com/questions/29130/difference-between-neural-net-weight-decay-and-learning-rate\n",
    "\n",
    "NUM_EPOCHS = 30      # Total number of training epochs (iterations over dataset)\n",
    "STEP_SIZE = 20      # How many epochs before decreasing learning rate (if using a step-down policy)\n",
    "GAMMA = 0.5         # Multiplicative factor for learning rate step-down\n",
    "\n",
    "LOG_FREQUENCY = 10\n",
    "\n",
    "PRE_TRAINED = False\n",
    "AUGMENTATION = True"
   ]
  },
  {
   "cell_type": "markdown",
   "metadata": {
    "colab_type": "text",
    "id": "9gwii0TBHvzh"
   },
   "source": [
    "**Define Data Preprocessing - Data Augmentation**"
   ]
  },
  {
   "cell_type": "code",
   "execution_count": null,
   "metadata": {
    "colab": {},
    "colab_type": "code",
    "id": "QUDdw4j2H0Mc"
   },
   "outputs": [],
   "source": [
    "# Define transforms for training phase, applied on both training and validation set\n",
    "train_transform = transforms.Compose([transforms.Resize(256),   \n",
    "                                      transforms.CenterCrop(224),\n",
    "                                      transforms.ToTensor(),\n",
    "])\n",
    "\n",
    "# Define transforms for the evalutation phase on test set\n",
    "eval_transform = transforms.Compose([transforms.Resize(256),\n",
    "                                      transforms.CenterCrop(224),\n",
    "                                      transforms.ToTensor(),   \n",
    "                                      transforms.Normalize((0.485, 0.456, 0.406), (0.229, 0.224, 0.225)),             \n",
    "])\n",
    "\n",
    "TTA_transform = transforms.Compose([transforms.Resize(256),\n",
    "                                      transforms.FiveCrop(224),\n",
    "                                      transforms.Lambda(lambda crops: torch.stack([transforms.ToTensor()(crop) for crop in crops])),  \n",
    "                                      transforms.Lambda(lambda crops: torch.stack([transforms.Normalize((0.485, 0.456, 0.406), (0.229, 0.224, 0.225))(crop) for crop in crops])),  \n",
    "                                                      \n",
    "])\n",
    "# The following transformations are applied only if AUGMENTATION = True\n",
    "augment_transform = transforms.Compose([transforms.ToPILImage(),\n",
    "                                      #transforms.RandomCrop(224),\n",
    "                                      transforms.RandomHorizontalFlip(p=0.5),\n",
    "                                      transforms.ToTensor(),\n",
    "                                      transforms.Normalize((0.485, 0.456, 0.406), (0.229, 0.224, 0.225)),                                  \n",
    "])\n",
    "\n",
    "# Applied only on the validation set\n",
    "validation_transform = transforms.Compose([transforms.Normalize((0.485, 0.456, 0.406), (0.229, 0.224, 0.225))                                   \n",
    "])"
   ]
  },
  {
   "cell_type": "markdown",
   "metadata": {
    "colab_type": "text",
    "id": "2qYIHPzYLY7i"
   },
   "source": [
    "**Prepare Dataset**"
   ]
  },
  {
   "cell_type": "code",
   "execution_count": null,
   "metadata": {
    "colab": {},
    "colab_type": "code",
    "id": "QfVq_uDHLbsR"
   },
   "outputs": [],
   "source": [
    "# Mount drive\n",
    "! rm -r '/content/Caltech101'\n",
    "\n",
    "from google.colab import drive\n",
    "drive.mount('/content/drive')\n",
    "\n",
    "# Clone github repository with data\n",
    "if not os.path.isdir('./Caltech101'):\n",
    "  !git clone https://github.com/MachineLearning2020/Homework2-Caltech101.git\n",
    "  !mv 'Homework2-Caltech101' 'Caltech101'\n",
    "  # !rm '/content/Caltech101/caltech_dataset.py'\n",
    "  !cp '/content/drive/My Drive/Colab Notebooks/caltech_dataset.py' '/content/Caltech101'"
   ]
  },
  {
   "cell_type": "markdown",
   "metadata": {
    "colab_type": "text",
    "id": "7geih5Z9cTZV"
   },
   "source": [
    "**Loading Data**\n"
   ]
  },
  {
   "cell_type": "code",
   "execution_count": null,
   "metadata": {
    "colab": {
     "base_uri": "https://localhost:8080/",
     "height": 70
    },
    "colab_type": "code",
    "id": "4vwcZuyizPMi",
    "outputId": "8ad1074a-274f-4b7d-f856-8edcc2789a69"
   },
   "outputs": [
    {
     "name": "stdout",
     "output_type": "stream",
     "text": [
      "Train Dataset: 2892\n",
      "Valid Dataset: 2892\n",
      "Test Dataset: 2893\n"
     ]
    }
   ],
   "source": [
    "from Caltech101.caltech_dataset import Caltech\n",
    "\n",
    "DATA_DIR = 'Caltech101/101_ObjectCategories'\n",
    "\n",
    "# Prepare Pytorch train/test Datasets\n",
    "train_dataset = Caltech(DATA_DIR, split='train',  transform=train_transform)\n",
    "test_dataset = Caltech(DATA_DIR, split='test', transform=eval_transform)\n",
    "TTA_dataset = Caltech(DATA_DIR, split='test', transform=TTA_transform)\n",
    "\n",
    "# Be careful to not filter out entire classes from the sets!\n",
    "\n",
    "sss = StratifiedShuffleSplit(n_splits=1, train_size=0.5, random_state=42)\n",
    "stratified = list(sss.split(train_dataset.data['images'], train_dataset.data['labels_encoded']))\n",
    "train_indexes = stratified[0][0]\n",
    "val_indexes = stratified[0][1]\n",
    "\n",
    "train_subdataset = Subset(train_dataset, train_indexes)\n",
    "val_subdataset = Subset(train_dataset, val_indexes)\n",
    "\n",
    "# Check dataset sizes\n",
    "print('Train Dataset: {}'.format(len(train_subdataset)))\n",
    "print('Valid Dataset: {}'.format(len(val_subdataset)))\n",
    "print('Test Dataset: {}'.format(len(test_dataset)))"
   ]
  },
  {
   "cell_type": "markdown",
   "metadata": {
    "colab_type": "text",
    "id": "d13cdNId0Rcm"
   },
   "source": [
    "**Data exploration**"
   ]
  },
  {
   "cell_type": "code",
   "execution_count": null,
   "metadata": {
    "colab": {
     "base_uri": "https://localhost:8080/",
     "height": 34
    },
    "colab_type": "code",
    "id": "PCKtHrp4vi5v",
    "outputId": "107976cd-2b81-4368-eb4d-42ade5ead066"
   },
   "outputs": [
    {
     "data": {
      "text/plain": [
       "(85.91089108910892, 117.75054173719958)"
      ]
     },
     "execution_count": 7,
     "metadata": {
      "tags": []
     },
     "output_type": "execute_result"
    }
   ],
   "source": [
    "# Demonstrating unbalancing of the classes within Caltech-101\n",
    "\n",
    "frames = [train_dataset.data, test_dataset.data]\n",
    "dataset = pd.concat(frames)\n",
    "occurrences = np.array(dataset.labels.value_counts())\n",
    "occurrences.mean(), occurrences.std() "
   ]
  },
  {
   "cell_type": "code",
   "execution_count": null,
   "metadata": {
    "colab": {
     "base_uri": "https://localhost:8080/",
     "height": 34
    },
    "colab_type": "code",
    "id": "O6AEvv5UMXYo",
    "outputId": "2e3f7590-54f7-47f0-fe77-476568ee1d50"
   },
   "outputs": [
    {
     "data": {
      "text/plain": [
       "(1, 101, 101)"
      ]
     },
     "execution_count": 8,
     "metadata": {
      "tags": []
     },
     "output_type": "execute_result"
    }
   ],
   "source": [
    "# Ensuring balancing of classes in TRAIN / VAL sets\n",
    "\n",
    "train_classes = []\n",
    "for i in range(len(train_subdataset)):\n",
    "  train_classes.append(train_subdataset[i][1])\n",
    "trainClassesDf = pd.DataFrame(train_classes, columns=[\"label\"])\n",
    "trainVC = trainClassesDf[\"label\"].value_counts()\n",
    "\n",
    "val_classes = []\n",
    "for i in range(len(val_subdataset)):\n",
    "  val_classes.append(val_subdataset[i][1])\n",
    "valClassesDf = pd.DataFrame(val_classes, columns=[\"label\"])\n",
    "valVC = valClassesDf[\"label\"].value_counts()\n",
    "\n",
    "\n",
    "differences = []\n",
    "for train,val in zip(trainVC, valVC):\n",
    "  differences.append(abs(train - val))\n",
    "\n",
    "max(differences), len(set(list(trainClassesDf.label))), len(set(list(valClassesDf.label)))"
   ]
  },
  {
   "cell_type": "markdown",
   "metadata": {
    "colab_type": "text",
    "id": "FYEDQ7Z21ldN"
   },
   "source": [
    "**Prepare Dataloaders**"
   ]
  },
  {
   "cell_type": "code",
   "execution_count": null,
   "metadata": {
    "colab": {},
    "colab_type": "code",
    "id": "VriRw8SI1nle"
   },
   "outputs": [],
   "source": [
    "# Dataloaders iterate over pytorch datasets and transparently provide useful functions (e.g. parallelization and shuffling)\n",
    "\n",
    "train_dataloader = DataLoader(train_subdataset, batch_size=BATCH_SIZE, shuffle=True, num_workers=4, drop_last=True)\n",
    "val_dataloader = DataLoader(val_subdataset, batch_size=BATCH_SIZE, shuffle=False, num_workers=4)\n",
    "test_dataloader = DataLoader(test_dataset, batch_size=BATCH_SIZE, shuffle=False, num_workers=4)\n",
    "TTA_dataloader = DataLoader(TTA_dataset, batch_size=64, shuffle=True, num_workers=4)"
   ]
  },
  {
   "cell_type": "markdown",
   "metadata": {
    "colab_type": "text",
    "id": "_IdnEalEOO2-"
   },
   "source": [
    "**Inspecting effects of data augmentation**\n"
   ]
  },
  {
   "cell_type": "code",
   "execution_count": null,
   "metadata": {
    "colab": {
     "base_uri": "https://localhost:8080/",
     "height": 304
    },
    "colab_type": "code",
    "id": "SImJgREncuqV",
    "outputId": "6942f2a6-118e-472b-c08b-e8b2f08a061b"
   },
   "outputs": [
    {
     "name": "stderr",
     "output_type": "stream",
     "text": [
      "Clipping input data to the valid range for imshow with RGB data ([0..1] for floats or [0..255] for integers).\n"
     ]
    },
    {
     "data": {
      "text/plain": [
       "<matplotlib.image.AxesImage at 0x7fe5889a89b0>"
      ]
     },
     "execution_count": 22,
     "metadata": {
      "tags": []
     },
     "output_type": "execute_result"
    },
    {
     "data": {
      "image/png": "[encoded data removed]",
      "text/plain": [
       "<Figure size 432x288 with 1 Axes>"
      ]
     },
     "metadata": {
      "needs_background": "light",
      "tags": []
     },
     "output_type": "display_data"
    }
   ],
   "source": [
    "transform = transforms.Compose([  transforms.Resize(256),\n",
    "                                  transforms.RandomCrop(224), \n",
    "                                  transforms.ToTensor(),\n",
    "                                  transforms.Normalize((0.485, 0.456, 0.406), (0.229, 0.224, 0.225))\n",
    "])\n",
    "\n",
    "no_transform = transforms.Compose([ transforms.ToTensor(),])\n",
    "\n",
    "train_with_trasform = Caltech(DATA_DIR, split='train',  transform=transform)\n",
    "train_without_trasform = Caltech(DATA_DIR, split='train',  transform=no_transform)\n",
    "trainsub_without_trasform = Subset(train_without_trasform, train_indexes)\n",
    "trainsub_with_trasform = Subset(train_with_trasform, train_indexes)\n",
    "\n",
    "no_augm_dataloader = DataLoader(trainsub_without_trasform, batch_size=BATCH_SIZE, shuffle=False, num_workers=4, drop_last=True)\n",
    "augm_dataloader = DataLoader(trainsub_with_trasform, batch_size=BATCH_SIZE, shuffle=False, num_workers=4, drop_last=True)\n",
    "\n",
    "image_to_vis1 = no_augm_dataloader.dataset[5][0]\n",
    "image_to_vis2 = augm_dataloader.dataset[5][0]\n",
    "plt.imshow(image_to_vis2.permute(1, 2, 0))\n"
   ]
  },
  {
   "cell_type": "markdown",
   "metadata": {
    "colab_type": "text",
    "id": "gbZ1t5Qs2z4j"
   },
   "source": [
    "**Prepare Network**"
   ]
  },
  {
   "cell_type": "code",
   "execution_count": null,
   "metadata": {
    "colab": {},
    "colab_type": "code",
    "id": "exHUjtXa22DN"
   },
   "outputs": [],
   "source": [
    "from torchvision.models import resnet18\n",
    "\n",
    "# net = alexnet(pretrained=PRE_TRAINED)\n",
    "# net.classifier[6] = nn.Linear(4096, NUM_CLASSES) \n",
    "\n",
    "net = resnet18(pretrained=PRE_TRAINED)\n",
    "net.fc = nn.Linear(512, NUM_CLASSES)"
   ]
  },
  {
   "cell_type": "markdown",
   "metadata": {
    "colab_type": "text",
    "id": "KEyL3H_R4qCf"
   },
   "source": [
    "**Prepare Training**"
   ]
  },
  {
   "cell_type": "code",
   "execution_count": null,
   "metadata": {
    "colab": {},
    "colab_type": "code",
    "id": "9sjq00G94tSc"
   },
   "outputs": [],
   "source": [
    "criterion = nn.CrossEntropyLoss() \n",
    "\n",
    "if (PRE_TRAINED == True):\n",
    "  parameters_to_optimize = net.fc.parameters() \n",
    "else: parameters_to_optimize = net.parameters() \n",
    "\n",
    "optimizer = optim.SGD(parameters_to_optimize, lr=LR, momentum=MOMENTUM, weight_decay=WEIGHT_DECAY)\n",
    "scheduler = optim.lr_scheduler.StepLR(optimizer, step_size=STEP_SIZE, gamma=GAMMA)"
   ]
  },
  {
   "cell_type": "code",
   "execution_count": null,
   "metadata": {
    "colab": {},
    "colab_type": "code",
    "id": "l5QAMVs0ipxW"
   },
   "outputs": [],
   "source": [
    "def augment(images, transform):\n",
    "  if(AUGMENTATION == True):\n",
    "    tensors = []\n",
    "    for img in images:\n",
    "      tensors.append(transform(img))\n",
    "    augmented_images = torch.stack(tensors)\n",
    "    return augmented_images \n",
    "  else: return images"
   ]
  },
  {
   "cell_type": "markdown",
   "metadata": {
    "colab_type": "text",
    "id": "3RE_xbmapFfH"
   },
   "source": [
    "**Validation function**"
   ]
  },
  {
   "cell_type": "code",
   "execution_count": null,
   "metadata": {
    "colab": {},
    "colab_type": "code",
    "id": "jPtE6hmoPOQr"
   },
   "outputs": [],
   "source": [
    "# Validation to be done after each epoch\n",
    "\n",
    "def validation(val_dataloader, net):\n",
    "  net = net.to(DEVICE) # this will bring the network to GPU if DEVICE is cuda\n",
    "  net.train(False) # Set Network to evaluation mode\n",
    "\n",
    "  running_corrects = 0\n",
    "  \n",
    "  for images, labels in tqdm(val_dataloader):\n",
    "    \n",
    "    images = augment(images, validation_transform)\n",
    "\n",
    "    images = images.to(DEVICE)\n",
    "    labels = labels.to(DEVICE)\n",
    "\n",
    "    # Forward Pass\n",
    "    outputs = net(images)\n",
    "\n",
    "    valLoss = criterion(outputs, labels)\n",
    "\n",
    "    # Get predictions\n",
    "    _, preds = torch.max(outputs.data, 1)\n",
    "\n",
    "    # Update Corrects\n",
    "    running_corrects += torch.sum(preds == labels.data).data.item()\n",
    "\n",
    "  # Calculate Accuracy\n",
    "  accuracy = running_corrects / float(len(val_subdataset))\n",
    "  print('Validation Accuracy: {}'.format(accuracy))\n",
    "\n",
    "  return accuracy, valLoss.item()"
   ]
  },
  {
   "cell_type": "markdown",
   "metadata": {
    "colab_type": "text",
    "id": "AxYUli9d9uYQ"
   },
   "source": [
    "**Train and evaluate the model after each epoch**"
   ]
  },
  {
   "cell_type": "code",
   "execution_count": null,
   "metadata": {
    "colab": {},
    "colab_type": "code",
    "id": "ZcoQ5fD49yT_"
   },
   "outputs": [],
   "source": [
    "# By default, everything is loaded to cpu\n",
    "net = net.to(DEVICE) # this will bring the network to GPU if DEVICE is cuda\n",
    "\n",
    "cudnn.benchmark # Calling this optimizes runtime\n",
    "\n",
    "current_step = 0\n",
    "accuracyScoresOnVal = []\n",
    "accuracyScoresOnTrainSet = []\n",
    "epochLosses = []\n",
    "stepLosses = []\n",
    "valLosses = []\n",
    "trainLosses = []\n",
    "\n",
    "start = time.time()\n",
    "\n",
    "# Start iterating over the epochs\n",
    "for epoch in range(NUM_EPOCHS):\n",
    "  print('Starting epoch {}/{}, LR = {} LAST_LR = {}'.format(epoch+1, NUM_EPOCHS, scheduler.get_lr(), scheduler.get_last_lr()))\n",
    "\n",
    "  # Iterate over the dataset\n",
    "  for images, labels in train_dataloader:\n",
    "    \n",
    "    images = augment(images, augment_transform)\n",
    "\n",
    "    # Bring data over the device of choice\n",
    "    images = images.to(DEVICE)\n",
    "    labels = labels.to(DEVICE)\n",
    "\n",
    "    net.train() # Sets module in training mode\n",
    "\n",
    "    # PyTorch, by default, accumulates gradients after each backward pass\n",
    "    # We need to manually set the gradients to zero before starting a new iteration\n",
    "    optimizer.zero_grad() # Zero-ing the gradients\n",
    "\n",
    "    # Forward pass to the network\n",
    "    outputs = net(images)\n",
    "\n",
    "    # Compute loss based on output and ground truth\n",
    "    loss = criterion(outputs, labels)\n",
    "    #stepLosses.append(loss.item())\n",
    "\n",
    "    # Log loss\n",
    "    if current_step % LOG_FREQUENCY == 0:\n",
    "      print('Step {}, Loss {}'.format(current_step, loss.item()))\n",
    "\n",
    "    # Compute gradients for each layer and update weights\n",
    "    loss.backward()  # backward pass: computes gradients\n",
    "    optimizer.step() # update weights based on accumulated gradients\n",
    "    \n",
    "    current_step += 1\n",
    " \n",
    "  # At the end of each epoch I save accuracy score, loss and LR\n",
    "  \n",
    "  accuracyScoreVal, lossVal = validation(val_dataloader, net)\n",
    "  accuracyScoreTrain, lossTrain = validation(train_dataloader, net)\n",
    "  accuracyScoresOnTrainSet.append(accuracyScoreTrain)\n",
    "  accuracyScoresOnVal.append(accuracyScoreVal)\n",
    "  valLosses.append(lossVal)\n",
    "  trainLosses.append(lossTrain)\n",
    "  epochLosses.append(loss.item())\n",
    "  \n",
    "  \n",
    "\n",
    "  # Step the scheduler\n",
    "  scheduler.step()\n",
    "\n",
    "end = time.time()\n",
    "execution_time = end - start\n",
    "print(f\"Training execution time: {execution_time}s\")\n",
    "\n",
    "final_accuracy_val = validation(val_dataloader, net)\n",
    "final_accuracy_train = validation(train_dataloader, net)"
   ]
  },
  {
   "cell_type": "code",
   "execution_count": null,
   "metadata": {
    "colab": {
     "base_uri": "https://localhost:8080/",
     "height": 496
    },
    "colab_type": "code",
    "id": "WZ2EE_6CG70p",
    "outputId": "c69510c6-2400-4a75-ee5e-dbd2dde19aa2"
   },
   "outputs": [
    {
     "data": {
      "image/png": "[encoded data removed]",
      "text/plain": [
       "<Figure size 720x576 with 1 Axes>"
      ]
     },
     "metadata": {
      "needs_background": "light",
      "tags": []
     },
     "output_type": "display_data"
    }
   ],
   "source": [
    "import matplotlib.pyplot as plt\n",
    "\n",
    "f, ax = plt.subplots(1,figsize=(10,8))\n",
    "x = range(NUM_EPOCHS) \n",
    "ax.plot(valLosses, label = \"val loss\")\n",
    "ax.plot(trainLosses, label = \"train loss\")\n",
    "plt.xlabel('EPOCH')\n",
    "plt.ylabel('LOSS')\n",
    "plt.title('')\n",
    "plt.legend()\n",
    "plt.show()"
   ]
  },
  {
   "cell_type": "code",
   "execution_count": null,
   "metadata": {
    "colab": {
     "base_uri": "https://localhost:8080/",
     "height": 496
    },
    "colab_type": "code",
    "id": "KJ3DSLNfENuT",
    "outputId": "0bc34f9d-fdfa-40ed-c864-589d5cc51836"
   },
   "outputs": [
    {
     "data": {
      "image/png": "[encoded data removed]",
      "text/plain": [
       "<Figure size 720x576 with 1 Axes>"
      ]
     },
     "metadata": {
      "needs_background": "light",
      "tags": []
     },
     "output_type": "display_data"
    }
   ],
   "source": [
    "f, ax = plt.subplots(1,figsize=(10,8))\n",
    "x = range(NUM_EPOCHS) \n",
    "ax.plot(x, accuracyScoresOnVal, label = \"accuracy on val\")\n",
    "ax.plot(x, accuracyScoresOnTrainSet, label = \"accuracy on train\")\n",
    "\n",
    "\n",
    "plt.xlabel('EPOCH')\n",
    "plt.ylabel('ACCURCY SCORE')\n",
    "plt.title('')\n",
    "plt.legend()\n",
    "plt.show()"
   ]
  },
  {
   "cell_type": "code",
   "execution_count": null,
   "metadata": {
    "colab": {},
    "colab_type": "code",
    "id": "fjs_HGfRg030"
   },
   "outputs": [],
   "source": [
    "# Saving results on result.txt\n",
    "# ! rm -r 'drive/My Drive/results.txt'\n",
    "\n",
    "results = f\"LR={LR} | NUM_EPOCHS={NUM_EPOCHS} | GAMMA={GAMMA} | STEP_SIZE={STEP_SIZE} | BATCH_SIZE={BATCH_SIZE} | PRE_TRAINED={PRE_TRAINED} | AUGMENTATION={AUGMENTATION} | FINAL_LOSS={final_loss} | FINAL_ACCURACY_VAL={final_accuracy_val} | FINAL_ACCURACY_TRAIN={final_accuracy_train}\\n\"\n",
    "f = open(\"drive/My Drive/results.txt\",'a')\n",
    "f.write(results)\n",
    "f.close()"
   ]
  },
  {
   "cell_type": "markdown",
   "metadata": {
    "colab_type": "text",
    "id": "jxekmR745ySe"
   },
   "source": [
    "**Test**"
   ]
  },
  {
   "cell_type": "code",
   "execution_count": null,
   "metadata": {
    "colab": {},
    "colab_type": "code",
    "id": "fSHcUqLB5yWO"
   },
   "outputs": [],
   "source": [
    "# Use only the best performing model on the validation set for testing\n",
    "net = net.to(DEVICE) # this will bring the network to GPU if DEVICE is cuda\n",
    "net.train(False) # Set Network to evaluation mode\n",
    "\n",
    "running_corrects = 0\n",
    "for images, labels in tqdm(test_dataloader):\n",
    "  images = images.to(DEVICE)\n",
    "  labels = labels.to(DEVICE)\n",
    "  \n",
    "  # Forward Pass\n",
    "  outputs = net(images)\n",
    "\n",
    "  # Get predictions\n",
    "  _, preds = torch.max(outputs.data, 1)\n",
    "\n",
    "  # Update Corrects\n",
    "  running_corrects += torch.sum(preds == labels.data).data.item()\n",
    "# Calculate Accuracy\n",
    "accuracy = running_corrects / float(len(test_dataset))\n",
    "\n",
    "print('Test Accuracy: {}'.format(accuracy))"
   ]
  },
  {
   "cell_type": "markdown",
   "metadata": {
    "colab_type": "text",
    "id": "svofJGWQNUC1"
   },
   "source": [
    "**Test after TTA**\n"
   ]
  },
  {
   "cell_type": "code",
   "execution_count": null,
   "metadata": {
    "colab": {},
    "colab_type": "code",
    "id": "vR-J8OfGIZxx"
   },
   "outputs": [],
   "source": [
    "# Use only the best performing model on the validation set for testing\n",
    "net = net.to(DEVICE) # this will bring the network to GPU if DEVICE is cuda\n",
    "net.train(False) # Set Network to evaluation mode\n",
    "\n",
    "running_corrects = 0\n",
    "for images, labels in tqdm(TTA_dataloader):\n",
    "  images = images.to(DEVICE)\n",
    "  labels = labels.to(DEVICE)\n",
    "\n",
    "  # Test-time data augmentation images, target = batch # input is a 5d tensor, target is 2d\n",
    "  bs, ncrops, c, h, w = images.size()\n",
    "  print(bs, ncrops, c, h, w )\n",
    "  result = net(images.view(-1, c, h, w)) # fuse batch size and ncrops\n",
    "  outputs = result.view(bs, ncrops, -1).mean(1)\n",
    "\n",
    "  # Get predictions\n",
    "  _, preds = torch.max(outputs.data, 1)\n",
    "\n",
    "  # Update Corrects\n",
    "  running_corrects += torch.sum(preds == labels.data).data.item()\n",
    "# Calculate Accuracy\n",
    "accuracy = running_corrects / float(len(test_dataset))\n",
    "\n",
    "print('Test Accuracy: {}'.format(accuracy))"
   ]
  }
 ],
 "metadata": {
  "accelerator": "GPU",
  "colab": {
   "collapsed_sections": [],
   "name": "homework_2.ipynb",
   "provenance": []
  },
  "kernelspec": {
   "display_name": "Python 3",
   "language": "python",
   "name": "python3"
  },
  "language_info": {
   "codemirror_mode": {
    "name": "ipython",
    "version": 3
   },
   "file_extension": ".py",
   "mimetype": "text/x-python",
   "name": "python",
   "nbconvert_exporter": "python",
   "pygments_lexer": "ipython3",
   "version": "3.7.6"
  }
 },
 "nbformat": 4,
 "nbformat_minor": 1
}
